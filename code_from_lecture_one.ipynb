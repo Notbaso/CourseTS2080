{
 "cells": [
  {
   "cell_type": "code",
   "execution_count": 2,
   "id": "4b7a5dab",
   "metadata": {},
   "outputs": [],
   "source": [
    "# ABSTRACTION\n",
    "\n",
    "from abc import ABC,abstractmethod\n",
    "\n",
    "# concrete method\n",
    "# inherited\n",
    "class Animal(ABC):\n",
    "    \n",
    "    def sleep(self):\n",
    "        print(\"I'm going to sleep in a while\")\n",
    "    \n",
    "    @abstractmethod\n",
    "    def sound(self):\n",
    "        print(\"This funkction is for defining the sound by any animal\")\n",
    "        \n",
    "class Snake(Animal): \n",
    "    def sound(self):\n",
    "        print(\"I can hiss\")\n",
    "        \n",
    "class Dog(Animal):\n",
    "    def sound(self):\n",
    "        print(\"I can bark\")\n",
    "        \n",
    "class Lion(Animal):\n",
    "    def sound(self):\n",
    "        print(\"I can roar\")\n",
    "        \n",
    "class Cat(Animal):\n",
    "    def sound(self):\n",
    "        print(\"i can meow\")"
   ]
  },
  {
   "cell_type": "code",
   "execution_count": 3,
   "id": "9701c231",
   "metadata": {},
   "outputs": [
    {
     "name": "stdout",
     "output_type": "stream",
     "text": [
      "I'm going to sleep in a while\n",
      "i can meow\n",
      "I'm going to sleep in a while\n",
      "I can hiss\n"
     ]
    }
   ],
   "source": [
    "c = Cat()\n",
    "c.sleep()\n",
    "c.sound()\n",
    "\n",
    "c = Snake()\n",
    "c.sleep()\n",
    "c.sound()"
   ]
  },
  {
   "cell_type": "code",
   "execution_count": 4,
   "id": "d291d0ea",
   "metadata": {},
   "outputs": [
    {
     "name": "stdout",
     "output_type": "stream",
     "text": [
      "This funkction is for defining the sound by any animal\n",
      "I can squeak\n"
     ]
    }
   ],
   "source": [
    "class Rabbit(Animal): \n",
    "    def sound(self): \n",
    "        super().sound() \n",
    "        print(\"I can squeak\") \n",
    " \n",
    " \n",
    "c = Rabbit() \n",
    "c.sound() "
   ]
  },
  {
   "cell_type": "code",
   "execution_count": 5,
   "id": "8983db7d",
   "metadata": {},
   "outputs": [
    {
     "name": "stdout",
     "output_type": "stream",
     "text": [
      "I'm going to sleep in a while\n"
     ]
    }
   ],
   "source": [
    "# Error since you can instantiate abstract class with creating a method \n",
    "class Deer(Animal): \n",
    "     \n",
    "    def sound(self): \n",
    "        pass \n",
    " \n",
    "c = Deer() \n",
    "c.sound() \n",
    "c.sleep() "
   ]
  },
  {
   "cell_type": "code",
   "execution_count": 6,
   "id": "c8b499dd",
   "metadata": {},
   "outputs": [],
   "source": [
    "# INHERITANCE\n",
    "\n",
    "class parent:\n",
    "    def func1(self):\n",
    "        print(\"Hello Parent\")\n",
    "        \n",
    "# Driver Code\n",
    "class child(parent):\n",
    "    def func2(self):\n",
    "        print(\"Hello Child\")"
   ]
  },
  {
   "cell_type": "code",
   "execution_count": 7,
   "id": "5b226639",
   "metadata": {},
   "outputs": [
    {
     "name": "stdout",
     "output_type": "stream",
     "text": [
      "Hello Parent\n",
      "Hello Child\n"
     ]
    }
   ],
   "source": [
    "test = child()\n",
    "test.func1()\n",
    "test.func2()"
   ]
  },
  {
   "cell_type": "code",
   "execution_count": 8,
   "id": "113ad816",
   "metadata": {},
   "outputs": [
    {
     "name": "stdout",
     "output_type": "stream",
     "text": [
      "Hello Parent1\n",
      "Hello Parent2\n",
      "Hello Child\n",
      "(<class '__main__.child'>, <class '__main__.parent1'>, <class '__main__.parent2'>, <class '__main__.parent3'>, <class 'object'>)\n"
     ]
    }
   ],
   "source": [
    "class parent1:                      \n",
    "    def func1(self):                    \n",
    "        print(\"Hello Parent1\") \n",
    "  \n",
    "class parent2:                     \n",
    "    def func2(self):                    \n",
    "        print(\"Hello Parent2\") \n",
    "  \n",
    "class parent3:                     \n",
    "    def func2(self):               \n",
    "        print(\"Hello Parent3\") \n",
    "  \n",
    "class child(parent1, parent2, parent3):     \n",
    "    def func3(self):                         \n",
    "        print(\"Hello Child\")             \n",
    "                            \n",
    "# Driver Code \n",
    "test = child()        \n",
    "test.func1()           \n",
    "test.func2()           \n",
    "test.func3()           \n",
    "  \n",
    "print(child.__mro__) "
   ]
  },
  {
   "cell_type": "code",
   "execution_count": 9,
   "id": "59f1a5d2",
   "metadata": {},
   "outputs": [
    {
     "name": "stdout",
     "output_type": "stream",
     "text": [
      "True\n",
      "False\n",
      "True\n",
      "True\n",
      "False\n",
      "True\n"
     ]
    }
   ],
   "source": [
    "# Here, the first parameter references the child class / subclass the function is used in.\n",
    "#    - issubclass(): The issubclass() function is a convenient way to check whether a class\n",
    "#      is the child of the parent class.\n",
    "\n",
    "# In other words, it checks if the first class is derived from the second class. If the classes\n",
    "# share a parent-child relationship, it returns a boolean value of True. Otherwise, False.\n",
    "#    - isinstance(): isinstance() is another inbuilt function of python which allows us to check\n",
    "\n",
    "# whether an object is an instance of a particular class or any of the classes it has been\n",
    "# derived from. It takes two parameters\n",
    "\n",
    "# i.e. the object and the class we need to check it against. It returns a boolean value of\n",
    "# True if the object is an instance and otherwise, False.\n",
    "\n",
    "class parent:\n",
    "    def func1():\n",
    "        print(\"Hello Parent\")\n",
    "\n",
    "class child(parent):\n",
    "    def func2(self):\n",
    "        print(\"Hello Child\")\n",
    "        \n",
    "print(issubclass(child,parent))\n",
    "\n",
    "print(issubclass(parent,child))\n",
    "\n",
    "A = child()\n",
    "B = parent()\n",
    "\n",
    "print(isinstance(A,child))\n",
    "print(isinstance(A,parent))\n",
    "print(isinstance(B,child))\n",
    "print(isinstance(B,parent))"
   ]
  },
  {
   "cell_type": "code",
   "execution_count": 10,
   "id": "8419eaf9",
   "metadata": {},
   "outputs": [
    {
     "name": "stdout",
     "output_type": "stream",
     "text": [
      "Circle\n",
      "153.93804002589985\n",
      "I am a two-dimensional shape.\n"
     ]
    }
   ],
   "source": [
    "# POLYMORPHISM\n",
    "\n",
    "from math import pi \n",
    "class Shape: \n",
    "     \n",
    "    def __init__(self, name): \n",
    "        self.name = name \n",
    "         \n",
    "    def area(self): \n",
    "        pass \n",
    "     \n",
    "    def fact(self): \n",
    "        return \"I am a two-dimensional shape.\" \n",
    "     \n",
    "    def __str__(self): \n",
    "        return self.name \n",
    "    \n",
    "     \n",
    " \n",
    "class Circle(Shape): \n",
    "     \n",
    "    def __init__(self, radius): \n",
    "        super().__init__(\"Circle\") \n",
    "        self.radius = radius \n",
    "         \n",
    "    def area(self): \n",
    "        return pi*self.radius**2 \n",
    "     \n",
    "shape_circle = Circle(7) \n",
    " \n",
    "print(shape_circle) \n",
    "print(shape_circle.area()) \n",
    "print(shape_circle.fact()) \n",
    "\n",
    "\n",
    "\n",
    "# Main concept of Polymorphism is method overriding\n",
    "# There are certain prerequisites for method overriding in Python. \n",
    "# They're discussed below --\n",
    "\n",
    "# Method overriding cannot be done within a class. So,we need to derive a child class\n",
    "# from a parent class. Hence Inheritance is mandatory.\n",
    "# The method must have the same name as in the parent class\n",
    "# The method must have the same number of parameters as in the parent class."
   ]
  },
  {
   "cell_type": "code",
   "execution_count": 11,
   "id": "90a31271",
   "metadata": {},
   "outputs": [],
   "source": [
    "# PUBLIC MEMBER \n",
    "\n",
    "class Employee: \n",
    "     \n",
    "    # constructor \n",
    "    def __init__(self,name,salary,project): \n",
    "        self.name = name \n",
    "        self.salary = salary \n",
    "        self.project = project "
   ]
  },
  {
   "cell_type": "code",
   "execution_count": 12,
   "id": "566fce7b",
   "metadata": {},
   "outputs": [
    {
     "name": "stdout",
     "output_type": "stream",
     "text": [
      "Jessa\n",
      "8000\n",
      "NLP\n"
     ]
    }
   ],
   "source": [
    "# PUBLIC MEMBER\n",
    "\n",
    "# creating object of a class \n",
    "emp = Employee('Jessa', 8000, 'NLP') \n",
    " \n",
    "# calling public method of the class \n",
    "print(emp.name) \n",
    "print(emp.salary) \n",
    "print(emp.project) "
   ]
  },
  {
   "cell_type": "code",
   "execution_count": 13,
   "id": "7d68943c",
   "metadata": {},
   "outputs": [
    {
     "ename": "AttributeError",
     "evalue": "'Employee' object has no attribute '__salary'",
     "output_type": "error",
     "traceback": [
      "\u001b[1;31m---------------------------------------------------------------------------\u001b[0m",
      "\u001b[1;31mAttributeError\u001b[0m                            Traceback (most recent call last)",
      "\u001b[1;32m<ipython-input-13-4e21a153d423>\u001b[0m in \u001b[0;36m<module>\u001b[1;34m\u001b[0m\n\u001b[0;32m     12\u001b[0m \u001b[1;33m\u001b[0m\u001b[0m\n\u001b[0;32m     13\u001b[0m \u001b[1;31m# accessing private data members\u001b[0m\u001b[1;33m\u001b[0m\u001b[1;33m\u001b[0m\u001b[1;33m\u001b[0m\u001b[0m\n\u001b[1;32m---> 14\u001b[1;33m \u001b[0mprint\u001b[0m\u001b[1;33m(\u001b[0m\u001b[1;34m'Salary:'\u001b[0m\u001b[1;33m,\u001b[0m \u001b[0memp\u001b[0m\u001b[1;33m.\u001b[0m\u001b[0m__salary\u001b[0m\u001b[1;33m)\u001b[0m\u001b[1;33m\u001b[0m\u001b[1;33m\u001b[0m\u001b[0m\n\u001b[0m",
      "\u001b[1;31mAttributeError\u001b[0m: 'Employee' object has no attribute '__salary'"
     ]
    }
   ],
   "source": [
    "# PRIVATE MEMBER \n",
    "class Employee: \n",
    "    # constructor \n",
    "    def __init__(self, name, salary): \n",
    "        # public data member \n",
    "        self.name = name \n",
    "        # private member \n",
    "        self.__salary = salary \n",
    " \n",
    "# creating object of a class \n",
    "emp = Employee('Jessa', 10000) \n",
    " \n",
    "# accessing private data members \n",
    "print('Salary:', emp.__salary) "
   ]
  },
  {
   "cell_type": "code",
   "execution_count": 14,
   "id": "dd118c63",
   "metadata": {},
   "outputs": [
    {
     "name": "stdout",
     "output_type": "stream",
     "text": [
      "Name:  Jessa Salary: 10000\n"
     ]
    }
   ],
   "source": [
    "# We can access private members from outside of a \n",
    "# class using the following two approaches.\n",
    "# Create public method to access private members\n",
    "# Use name mangling\n",
    "\n",
    "class Employee: \n",
    "    # constructor \n",
    "    def __init__(self, name, salary): \n",
    "        # public data member \n",
    "        self.name = name \n",
    "        # private member \n",
    "        self.__salary = salary \n",
    " \n",
    "    # public instance methods \n",
    "    def show(self): \n",
    "        # private members are accessible from a class \n",
    "        print(\"Name: \", self.name, 'Salary:', self.__salary) \n",
    " \n",
    "# creating object of a class \n",
    "emp = Employee('Jessa', 10000) \n",
    " \n",
    "# calling public method of the class \n",
    "emp.show() "
   ]
  },
  {
   "cell_type": "code",
   "execution_count": 15,
   "id": "e0e0042a",
   "metadata": {},
   "outputs": [
    {
     "name": "stdout",
     "output_type": "stream",
     "text": [
      "Name: Jessa\n",
      "Salary: 10000\n"
     ]
    }
   ],
   "source": [
    "# The name mangling is created on an identifier by adding two leading underscores and\n",
    "# one trailing underscore, like this _classname__dataMember, where classname is the\n",
    "# current class, and data member is the private variable name.\n",
    "\n",
    "class Employee: \n",
    "    # constructor \n",
    "    def __init__(self, name, salary): \n",
    "        # public data member \n",
    "        self.name = name \n",
    "        # private member \n",
    "        self.__salary = salary \n",
    " \n",
    "# creating object of a class \n",
    "emp = Employee('Jessa', 10000) \n",
    " \n",
    "print('Name:', emp.name) \n",
    "# direct access to private member using name mangling \n",
    "print('Salary:', emp._Employee__salary) "
   ]
  },
  {
   "cell_type": "code",
   "execution_count": 16,
   "id": "593362a4",
   "metadata": {},
   "outputs": [
    {
     "name": "stdout",
     "output_type": "stream",
     "text": [
      "Employee name : Jessa\n",
      "Working on project : NLP\n",
      "Project: NLP\n"
     ]
    }
   ],
   "source": [
    "# PROTECTED MEMBER\n",
    "\n",
    "# Protected data members are used when you implement inheritance and want to allow\n",
    "# data members access to only child classes.\n",
    "\n",
    "# base class \n",
    "class Company:\n",
    "    def __init__(self): \n",
    "        # Protected member \n",
    "        self._project = \"NLP\" \n",
    " \n",
    "# child class \n",
    "class Employee(Company): \n",
    "    def __init__(self, name): \n",
    "        self.name = name \n",
    "        Company.__init__(self) \n",
    " \n",
    "    def show(self): \n",
    "        print(\"Employee name :\", self.name) \n",
    "        # Accessing protected member in child class \n",
    "        print(\"Working on project :\", self._project) \n",
    " \n",
    "c = Employee(\"Jessa\") \n",
    "c.show() \n",
    " \n",
    "# Direct access protected data member \n",
    "print('Project:', c._project) "
   ]
  },
  {
   "cell_type": "code",
   "execution_count": null,
   "id": "5a6088fb",
   "metadata": {},
   "outputs": [],
   "source": []
  }
 ],
 "metadata": {
  "kernelspec": {
   "display_name": "Python 3",
   "language": "python",
   "name": "python3"
  },
  "language_info": {
   "codemirror_mode": {
    "name": "ipython",
    "version": 3
   },
   "file_extension": ".py",
   "mimetype": "text/x-python",
   "name": "python",
   "nbconvert_exporter": "python",
   "pygments_lexer": "ipython3",
   "version": "3.8.8"
  }
 },
 "nbformat": 4,
 "nbformat_minor": 5
}
